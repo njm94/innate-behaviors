{
 "cells": [
  {
   "cell_type": "code",
   "execution_count": 1,
   "id": "ae55d61a-3749-489e-9900-c83c52bb85d6",
   "metadata": {},
   "outputs": [],
   "source": [
    "import numpy as np\n",
    "import matplotlib.pyplot as plt\n",
    "from scipy.io import savemat"
   ]
  },
  {
   "cell_type": "code",
   "execution_count": 2,
   "id": "9ba771ba-69de-4f07-8e0e-834ede57f92b",
   "metadata": {},
   "outputs": [],
   "source": [
    "filepath = '/media/user/teamshare/nick/behavior/grooming/2p/ETR2_thy1/20231113143925/'\n",
    "embeddings = np.load(filepath+'rastermaptest_embedding.npy', allow_pickle=True)"
   ]
  },
  {
   "cell_type": "code",
   "execution_count": 3,
   "id": "ec05ac3b-28cb-49e8-9450-f9a6fcfca588",
   "metadata": {},
   "outputs": [],
   "source": [
    "x = embeddings.item()"
   ]
  },
  {
   "cell_type": "code",
   "execution_count": 4,
   "id": "cd66dda3-1b9d-4ecd-a311-84170b2b052c",
   "metadata": {},
   "outputs": [],
   "source": [
    "isort = x['isort']"
   ]
  },
  {
   "cell_type": "code",
   "execution_count": 5,
   "id": "8d100e85-987e-4c47-a5af-12893fac76f5",
   "metadata": {},
   "outputs": [],
   "source": [
    "mdic = {'isort': isort}\n",
    "savemat(filepath+'rastermap_order.mat', mdic)"
   ]
  },
  {
   "cell_type": "code",
   "execution_count": null,
   "id": "58f003be-cec3-4acc-9415-f5ff64d394c3",
   "metadata": {},
   "outputs": [],
   "source": []
  }
 ],
 "metadata": {
  "kernelspec": {
   "display_name": "Python 3 (ipykernel)",
   "language": "python",
   "name": "python3"
  },
  "language_info": {
   "codemirror_mode": {
    "name": "ipython",
    "version": 3
   },
   "file_extension": ".py",
   "mimetype": "text/x-python",
   "name": "python",
   "nbconvert_exporter": "python",
   "pygments_lexer": "ipython3",
   "version": "3.10.15"
  }
 },
 "nbformat": 4,
 "nbformat_minor": 5
}

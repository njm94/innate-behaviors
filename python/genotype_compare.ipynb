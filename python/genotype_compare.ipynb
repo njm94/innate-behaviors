{
 "cells": [
  {
   "cell_type": "code",
   "execution_count": 9,
   "id": "daeb9021-7cb9-457a-856b-fce839a71e09",
   "metadata": {},
   "outputs": [],
   "source": [
    "import sys\n",
    "sys.path.append('../')\n",
    "from os.path import dirname, realpath\n",
    "# filepath = realpath(__file__)\n",
    "# dir_of_file = dirname(filepath)\n",
    "# parent_dir_of_file = dirname(dir_of_file)\n",
    "# sys.path.append(parent_dir_of_file)\n",
    "import tifffile as tif\n",
    "from scipy import signal\n",
    "from pathlib import Path\n",
    "from tqdm import tqdm \n",
    "from get_list_data import expt1_data_list, expt2_data_list, expt2_start_end_idx, expt3_data_list\n",
    "from helper import *\n",
    "import gc\n",
    "import numpy as np\n",
    "from scipy.io import savemat\n",
    "from sklearn.decomposition import PCA\n",
    "from sklearn.decomposition import NMF\n"
   ]
  },
  {
   "cell_type": "code",
   "execution_count": 6,
   "id": "936eeca9-0ced-41ed-a9a8-5c6b8be53a08",
   "metadata": {},
   "outputs": [],
   "source": [
    "data_root = '/media/user/teamshare/nick/behavior/grooming/1p/'\n",
    "data_list = expt1_data_list"
   ]
  },
  {
   "cell_type": "code",
   "execution_count": 11,
   "id": "0adffe73-362b-496d-a41f-814972213532",
   "metadata": {},
   "outputs": [
    {
     "name": "stderr",
     "output_type": "stream",
     "text": [
      "  0%|                                                     | 0/6 [00:00<?, ?it/s]"
     ]
    },
    {
     "name": "stdout",
     "output_type": "stream",
     "text": [
      "/media/user/teamshare/nick/behavior/grooming/1p//HYL3_tTA/20231106193918/cam0.tif\n",
      "Running PCA\n"
     ]
    },
    {
     "name": "stderr",
     "output_type": "stream",
     "text": [
      " 17%|███████▎                                    | 1/6 [03:44<18:44, 224.99s/it]"
     ]
    },
    {
     "name": "stdout",
     "output_type": "stream",
     "text": [
      "655\n",
      "/media/user/teamshare/nick/behavior/grooming/1p//HYL3_tTA/20231110105917/cam0.tif\n",
      "Running PCA\n"
     ]
    },
    {
     "name": "stderr",
     "output_type": "stream",
     "text": [
      " 33%|██████████████▋                             | 2/6 [07:27<14:54, 223.71s/it]"
     ]
    },
    {
     "name": "stdout",
     "output_type": "stream",
     "text": [
      "4901\n",
      "/media/user/teamshare/nick/behavior/grooming/1p//HYL3_tTA/20231112090820/cam0.tif\n",
      "Running PCA\n"
     ]
    },
    {
     "name": "stderr",
     "output_type": "stream",
     "text": [
      " 50%|██████████████████████                      | 3/6 [11:09<11:09, 223.02s/it]"
     ]
    },
    {
     "name": "stdout",
     "output_type": "stream",
     "text": [
      "477\n",
      "/media/user/teamshare/nick/behavior/grooming/1p//HYL3_tTA/20231114155558/cam0.tif\n",
      "Running PCA\n"
     ]
    },
    {
     "name": "stderr",
     "output_type": "stream",
     "text": [
      " 67%|█████████████████████████████▎              | 4/6 [14:52<07:25, 222.84s/it]"
     ]
    },
    {
     "name": "stdout",
     "output_type": "stream",
     "text": [
      "2381\n",
      "/media/user/teamshare/nick/behavior/grooming/1p//HYL3_tTA/20231116184954/cam0.tif\n",
      "Running PCA\n"
     ]
    },
    {
     "name": "stderr",
     "output_type": "stream",
     "text": [
      " 83%|████████████████████████████████████▋       | 5/6 [18:34<03:42, 222.48s/it]"
     ]
    },
    {
     "name": "stdout",
     "output_type": "stream",
     "text": [
      "1893\n",
      "/media/user/teamshare/nick/behavior/grooming/1p//HYL3_tTA/20231120043753/cam0.tif\n",
      "Running PCA\n"
     ]
    },
    {
     "name": "stderr",
     "output_type": "stream",
     "text": [
      "100%|████████████████████████████████████████████| 6/6 [22:17<00:00, 222.96s/it]\n"
     ]
    },
    {
     "name": "stdout",
     "output_type": "stream",
     "text": [
      "2123\n"
     ]
    },
    {
     "name": "stderr",
     "output_type": "stream",
     "text": [
      "  0%|                                                     | 0/6 [00:00<?, ?it/s]"
     ]
    },
    {
     "name": "stdout",
     "output_type": "stream",
     "text": [
      "/media/user/teamshare/nick/behavior/grooming/1p//IBL2_tTA/20231106160858/cam0.tif\n",
      "Running PCA\n"
     ]
    },
    {
     "name": "stderr",
     "output_type": "stream",
     "text": [
      " 17%|███████▎                                    | 1/6 [03:43<18:36, 223.39s/it]"
     ]
    },
    {
     "name": "stdout",
     "output_type": "stream",
     "text": [
      "34\n",
      "/media/user/teamshare/nick/behavior/grooming/1p//IBL2_tTA/20231110102111/cam0.tif\n",
      "Running PCA\n"
     ]
    },
    {
     "name": "stderr",
     "output_type": "stream",
     "text": [
      " 33%|██████████████▋                             | 2/6 [07:26<14:52, 223.07s/it]"
     ]
    },
    {
     "name": "stdout",
     "output_type": "stream",
     "text": [
      "41\n",
      "/media/user/teamshare/nick/behavior/grooming/1p//IBL2_tTA/20231112060901/cam0.tif\n",
      "Running PCA\n"
     ]
    },
    {
     "name": "stderr",
     "output_type": "stream",
     "text": [
      " 50%|██████████████████████                      | 3/6 [11:11<11:11, 223.97s/it]"
     ]
    },
    {
     "name": "stdout",
     "output_type": "stream",
     "text": [
      "24\n",
      "/media/user/teamshare/nick/behavior/grooming/1p//IBL2_tTA/20231114144125/cam0.tif\n",
      "Running PCA\n"
     ]
    },
    {
     "name": "stderr",
     "output_type": "stream",
     "text": [
      " 67%|█████████████████████████████▎              | 4/6 [14:56<07:28, 224.34s/it]"
     ]
    },
    {
     "name": "stdout",
     "output_type": "stream",
     "text": [
      "17\n",
      "/media/user/teamshare/nick/behavior/grooming/1p//IBL2_tTA/20231116164500/cam0.tif\n",
      "Running PCA\n"
     ]
    },
    {
     "name": "stderr",
     "output_type": "stream",
     "text": [
      " 83%|████████████████████████████████████▋       | 5/6 [18:38<03:43, 223.70s/it]"
     ]
    },
    {
     "name": "stdout",
     "output_type": "stream",
     "text": [
      "38\n",
      "/media/user/teamshare/nick/behavior/grooming/1p//IBL2_tTA/20231120033323/cam0.tif\n",
      "Running PCA\n"
     ]
    },
    {
     "name": "stderr",
     "output_type": "stream",
     "text": [
      "100%|████████████████████████████████████████████| 6/6 [22:20<00:00, 223.47s/it]\n"
     ]
    },
    {
     "name": "stdout",
     "output_type": "stream",
     "text": [
      "72\n"
     ]
    },
    {
     "name": "stderr",
     "output_type": "stream",
     "text": [
      "0it [00:00, ?it/s]\n",
      "  0%|                                                     | 0/6 [00:00<?, ?it/s]"
     ]
    },
    {
     "name": "stdout",
     "output_type": "stream",
     "text": [
      "/media/user/teamshare/nick/behavior/grooming/1p//GER2_ai94/20231106165217/cam0.tif\n",
      "Running PCA\n"
     ]
    },
    {
     "name": "stderr",
     "output_type": "stream",
     "text": [
      " 17%|███████▎                                    | 1/6 [03:41<18:26, 221.29s/it]"
     ]
    },
    {
     "name": "stdout",
     "output_type": "stream",
     "text": [
      "52\n",
      "/media/user/teamshare/nick/behavior/grooming/1p//GER2_ai94/20231110151516/cam0.tif\n",
      "Running PCA\n"
     ]
    },
    {
     "name": "stderr",
     "output_type": "stream",
     "text": [
      " 33%|██████████████▋                             | 2/6 [07:23<14:47, 221.93s/it]"
     ]
    },
    {
     "name": "stdout",
     "output_type": "stream",
     "text": [
      "97\n",
      "/media/user/teamshare/nick/behavior/grooming/1p//GER2_ai94/20231112080621/cam0.tif\n",
      "Running PCA\n"
     ]
    },
    {
     "name": "stderr",
     "output_type": "stream",
     "text": [
      " 50%|██████████████████████                      | 3/6 [11:06<11:07, 222.43s/it]"
     ]
    },
    {
     "name": "stdout",
     "output_type": "stream",
     "text": [
      "37\n",
      "/media/user/teamshare/nick/behavior/grooming/1p//GER2_ai94/20231114170556/cam0.tif\n",
      "Running PCA\n"
     ]
    },
    {
     "name": "stderr",
     "output_type": "stream",
     "text": [
      " 67%|█████████████████████████████▎              | 4/6 [14:50<07:25, 222.83s/it]"
     ]
    },
    {
     "name": "stdout",
     "output_type": "stream",
     "text": [
      "533\n",
      "/media/user/teamshare/nick/behavior/grooming/1p//GER2_ai94/20231116173257/cam0.tif\n",
      "Running PCA\n"
     ]
    },
    {
     "name": "stderr",
     "output_type": "stream",
     "text": [
      " 83%|████████████████████████████████████▋       | 5/6 [18:34<03:43, 223.21s/it]"
     ]
    },
    {
     "name": "stdout",
     "output_type": "stream",
     "text": [
      "342\n",
      "/media/user/teamshare/nick/behavior/grooming/1p//GER2_ai94/20231120025554/cam0.tif\n",
      "Running PCA\n"
     ]
    },
    {
     "name": "stderr",
     "output_type": "stream",
     "text": [
      "100%|████████████████████████████████████████████| 6/6 [22:16<00:00, 222.72s/it]\n"
     ]
    },
    {
     "name": "stdout",
     "output_type": "stream",
     "text": [
      "1244\n"
     ]
    },
    {
     "name": "stderr",
     "output_type": "stream",
     "text": [
      "  0%|                                                     | 0/7 [00:00<?, ?it/s]"
     ]
    },
    {
     "name": "stdout",
     "output_type": "stream",
     "text": [
      "/media/user/teamshare/nick/behavior/grooming/1p//ECR2_thy1/20231106185006/cam0.tif\n",
      "Running PCA\n"
     ]
    },
    {
     "name": "stderr",
     "output_type": "stream",
     "text": [
      " 14%|██████▎                                     | 1/7 [03:42<22:14, 222.45s/it]"
     ]
    },
    {
     "name": "stdout",
     "output_type": "stream",
     "text": [
      "2928\n",
      "/media/user/teamshare/nick/behavior/grooming/1p//ECR2_thy1/20231110160844/cam0.tif\n",
      "Running PCA\n"
     ]
    },
    {
     "name": "stderr",
     "output_type": "stream",
     "text": [
      " 29%|████████████▌                               | 2/7 [07:24<18:31, 222.22s/it]"
     ]
    },
    {
     "name": "stdout",
     "output_type": "stream",
     "text": [
      "707\n",
      "/media/user/teamshare/nick/behavior/grooming/1p//ECR2_thy1/20231112052459/cam0.tif\n",
      "Running PCA\n"
     ]
    },
    {
     "name": "stderr",
     "output_type": "stream",
     "text": [
      " 43%|██████████████████▊                         | 3/7 [11:06<14:48, 222.04s/it]"
     ]
    },
    {
     "name": "stdout",
     "output_type": "stream",
     "text": [
      "188\n",
      "/media/user/teamshare/nick/behavior/grooming/1p//ECR2_thy1/20231114151923/cam0.tif\n",
      "Running PCA\n"
     ]
    },
    {
     "name": "stderr",
     "output_type": "stream",
     "text": [
      " 57%|█████████████████████████▏                  | 4/7 [14:48<11:05, 221.98s/it]"
     ]
    },
    {
     "name": "stdout",
     "output_type": "stream",
     "text": [
      "372\n",
      "/media/user/teamshare/nick/behavior/grooming/1p//ECR2_thy1/20231116161015/cam0.tif\n",
      "Running PCA\n"
     ]
    },
    {
     "name": "stderr",
     "output_type": "stream",
     "text": [
      " 71%|███████████████████████████████▍            | 5/7 [18:30<07:23, 221.96s/it]"
     ]
    },
    {
     "name": "stdout",
     "output_type": "stream",
     "text": [
      "290\n",
      "/media/user/teamshare/nick/behavior/grooming/1p//ECR2_thy1/20231119121329/cam0.tif\n",
      "Running PCA\n"
     ]
    },
    {
     "name": "stderr",
     "output_type": "stream",
     "text": [
      " 86%|█████████████████████████████████████▋      | 6/7 [22:13<03:42, 222.31s/it]"
     ]
    },
    {
     "name": "stdout",
     "output_type": "stream",
     "text": [
      "232\n",
      "/media/user/teamshare/nick/behavior/grooming/1p//ECR2_thy1/20231120051613/cam0.tif\n",
      "Running PCA\n"
     ]
    },
    {
     "name": "stderr",
     "output_type": "stream",
     "text": [
      "100%|████████████████████████████████████████████| 7/7 [25:55<00:00, 222.16s/it]"
     ]
    },
    {
     "name": "stdout",
     "output_type": "stream",
     "text": [
      "131\n"
     ]
    },
    {
     "name": "stderr",
     "output_type": "stream",
     "text": [
      "\n"
     ]
    }
   ],
   "source": [
    "for ii, expt in enumerate(data_list):\n",
    "    mouse_id, list_rec_dir = expt\n",
    "    components_file = data_root + os.sep + mouse_id + os.sep + \"outputs\" + os.sep + 'components99.mat'\n",
    "    num_components99 = []\n",
    "    for jj, rec_dir in enumerate(tqdm(list_rec_dir)):\n",
    "        brain_cam0_file = data_root + os.sep + mouse_id + os.sep + rec_dir + os.sep + 'cam0.tif'\n",
    "        print(brain_cam0_file)\n",
    "        brain_stack = tif.imread(brain_cam0_file)\n",
    "        brain_start, brain_stop = get_dark_frames(brain_stack)\n",
    "        brain_stack_trim = brain_stack[brain_start:brain_stop]\n",
    "        brain_stack_trim = np.reshape(brain_stack_trim, newshape=(brain_stack_trim.shape[0], int(brain_stack_trim.shape[1] * brain_stack_trim.shape[2])))\n",
    "\n",
    "        # model = NMF()\n",
    "        # W = model.fit_transform(brain_stack)\n",
    "        # H = model.components_\n",
    "        \n",
    "        print(\"Running PCA\")\n",
    "        pca = PCA(n_components=5000)\n",
    "        pca.fit(brain_stack_trim[:-5,:])\n",
    "        exvar = np.cumsum(pca.explained_variance_ratio_)\n",
    "        n99 = np.where(exvar>0.99)[0][0] + 1 \n",
    "        print(n99)\n",
    "        num_components99.append(n99)\n",
    "        \n",
    "\n",
    "    mdic = {\"pca_components99\": num_components99}\n",
    "    savemat(components_file, mdic)\n",
    "\n",
    "        \n",
    "\n"
   ]
  },
  {
   "cell_type": "code",
   "execution_count": 4,
   "id": "8c8fd568-6dbb-4765-9ee3-ebfc413a5a33",
   "metadata": {},
   "outputs": [
    {
     "ename": "NameError",
     "evalue": "name 'n95' is not defined",
     "output_type": "error",
     "traceback": [
      "\u001b[0;31m---------------------------------------------------------------------------\u001b[0m",
      "\u001b[0;31mNameError\u001b[0m                                 Traceback (most recent call last)",
      "Cell \u001b[0;32mIn[4], line 1\u001b[0m\n\u001b[0;32m----> 1\u001b[0m \u001b[38;5;28mprint\u001b[39m(\u001b[43mn95\u001b[49m) \n",
      "\u001b[0;31mNameError\u001b[0m: name 'n95' is not defined"
     ]
    }
   ],
   "source": [
    "print(n95) "
   ]
  },
  {
   "cell_type": "code",
   "execution_count": 9,
   "id": "8458da5a-5c92-47b5-ae94-c31c90de49d4",
   "metadata": {},
   "outputs": [
    {
     "name": "stdout",
     "output_type": "stream",
     "text": [
      "[['HYL3_tTA', ['20231106193918', '20231110105917', '20231112090820', '20231114155558', '20231116184954', '20231120043753']], ['IBL2_tTA', []], ['HYR3_tTA', []], ['GER2_ai94', []], ['ECR2_thy1', []]]\n"
     ]
    }
   ],
   "source": [
    "print(data_list)"
   ]
  },
  {
   "cell_type": "code",
   "execution_count": 24,
   "id": "6091f4c7-42dc-46bb-8d12-80fa38eeb39a",
   "metadata": {},
   "outputs": [
    {
     "data": {
      "image/png": "[encoded data removed]",
      "text/plain": [
       "<Figure size 640x480 with 1 Axes>"
      ]
     },
     "metadata": {},
     "output_type": "display_data"
    }
   ],
   "source": [
    "import matplotlib.pyplot as plt\n",
    "plt.figure()\n",
    "plt.plot(np.cumsum(pca.explained_variance_ratio_))\n",
    "plt.show()"
   ]
  },
  {
   "cell_type": "code",
   "execution_count": 37,
   "id": "5f109056-73e4-47bf-9eef-79fac2082630",
   "metadata": {},
   "outputs": [
    {
     "name": "stdout",
     "output_type": "stream",
     "text": [
      "657\n"
     ]
    }
   ],
   "source": [
    "test = np.cumsum(pca.explained_variance_ratio_)\n",
    "tmp = np.where(test>0.99)\n",
    "print(tmp[0][0])"
   ]
  },
  {
   "cell_type": "code",
   "execution_count": 17,
   "id": "52113f70-150e-4547-b931-fbb948dfd3f6",
   "metadata": {},
   "outputs": [
    {
     "ename": "ValueError",
     "evalue": "cannot reshape array of size 16379 into shape (128,128)",
     "output_type": "error",
     "traceback": [
      "\u001b[0;31m---------------------------------------------------------------------------\u001b[0m",
      "\u001b[0;31mValueError\u001b[0m                                Traceback (most recent call last)",
      "Cell \u001b[0;32mIn[17], line 2\u001b[0m\n\u001b[1;32m      1\u001b[0m plt\u001b[38;5;241m.\u001b[39mfigure()\n\u001b[0;32m----> 2\u001b[0m plt\u001b[38;5;241m.\u001b[39mimshow(\u001b[43mnp\u001b[49m\u001b[38;5;241;43m.\u001b[39;49m\u001b[43mreshape\u001b[49m\u001b[43m(\u001b[49m\u001b[43mpca\u001b[49m\u001b[38;5;241;43m.\u001b[39;49m\u001b[43mcomponents_\u001b[49m\u001b[43m[\u001b[49m\u001b[38;5;241;43m0\u001b[39;49m\u001b[43m,\u001b[49m\u001b[43m:\u001b[49m\u001b[43m]\u001b[49m\u001b[43m,\u001b[49m\u001b[43m \u001b[49m\u001b[43mnewshape\u001b[49m\u001b[38;5;241;43m=\u001b[39;49m\u001b[43m(\u001b[49m\u001b[38;5;241;43m128\u001b[39;49m\u001b[43m,\u001b[49m\u001b[43m \u001b[49m\u001b[38;5;241;43m128\u001b[39;49m\u001b[43m)\u001b[49m\u001b[43m)\u001b[49m)\n",
      "File \u001b[0;32m<__array_function__ internals>:200\u001b[0m, in \u001b[0;36mreshape\u001b[0;34m(*args, **kwargs)\u001b[0m\n",
      "File \u001b[0;32m~/anaconda3/envs/nick/lib/python3.11/site-packages/numpy/core/fromnumeric.py:298\u001b[0m, in \u001b[0;36mreshape\u001b[0;34m(a, newshape, order)\u001b[0m\n\u001b[1;32m    198\u001b[0m \u001b[38;5;129m@array_function_dispatch\u001b[39m(_reshape_dispatcher)\n\u001b[1;32m    199\u001b[0m \u001b[38;5;28;01mdef\u001b[39;00m \u001b[38;5;21mreshape\u001b[39m(a, newshape, order\u001b[38;5;241m=\u001b[39m\u001b[38;5;124m'\u001b[39m\u001b[38;5;124mC\u001b[39m\u001b[38;5;124m'\u001b[39m):\n\u001b[1;32m    200\u001b[0m \u001b[38;5;250m    \u001b[39m\u001b[38;5;124;03m\"\"\"\u001b[39;00m\n\u001b[1;32m    201\u001b[0m \u001b[38;5;124;03m    Gives a new shape to an array without changing its data.\u001b[39;00m\n\u001b[1;32m    202\u001b[0m \n\u001b[0;32m   (...)\u001b[0m\n\u001b[1;32m    296\u001b[0m \u001b[38;5;124;03m           [5, 6]])\u001b[39;00m\n\u001b[1;32m    297\u001b[0m \u001b[38;5;124;03m    \"\"\"\u001b[39;00m\n\u001b[0;32m--> 298\u001b[0m     \u001b[38;5;28;01mreturn\u001b[39;00m \u001b[43m_wrapfunc\u001b[49m\u001b[43m(\u001b[49m\u001b[43ma\u001b[49m\u001b[43m,\u001b[49m\u001b[43m \u001b[49m\u001b[38;5;124;43m'\u001b[39;49m\u001b[38;5;124;43mreshape\u001b[39;49m\u001b[38;5;124;43m'\u001b[39;49m\u001b[43m,\u001b[49m\u001b[43m \u001b[49m\u001b[43mnewshape\u001b[49m\u001b[43m,\u001b[49m\u001b[43m \u001b[49m\u001b[43morder\u001b[49m\u001b[38;5;241;43m=\u001b[39;49m\u001b[43morder\u001b[49m\u001b[43m)\u001b[49m\n",
      "File \u001b[0;32m~/anaconda3/envs/nick/lib/python3.11/site-packages/numpy/core/fromnumeric.py:57\u001b[0m, in \u001b[0;36m_wrapfunc\u001b[0;34m(obj, method, *args, **kwds)\u001b[0m\n\u001b[1;32m     54\u001b[0m     \u001b[38;5;28;01mreturn\u001b[39;00m _wrapit(obj, method, \u001b[38;5;241m*\u001b[39margs, \u001b[38;5;241m*\u001b[39m\u001b[38;5;241m*\u001b[39mkwds)\n\u001b[1;32m     56\u001b[0m \u001b[38;5;28;01mtry\u001b[39;00m:\n\u001b[0;32m---> 57\u001b[0m     \u001b[38;5;28;01mreturn\u001b[39;00m \u001b[43mbound\u001b[49m\u001b[43m(\u001b[49m\u001b[38;5;241;43m*\u001b[39;49m\u001b[43margs\u001b[49m\u001b[43m,\u001b[49m\u001b[43m \u001b[49m\u001b[38;5;241;43m*\u001b[39;49m\u001b[38;5;241;43m*\u001b[39;49m\u001b[43mkwds\u001b[49m\u001b[43m)\u001b[49m\n\u001b[1;32m     58\u001b[0m \u001b[38;5;28;01mexcept\u001b[39;00m \u001b[38;5;167;01mTypeError\u001b[39;00m:\n\u001b[1;32m     59\u001b[0m     \u001b[38;5;66;03m# A TypeError occurs if the object does have such a method in its\u001b[39;00m\n\u001b[1;32m     60\u001b[0m     \u001b[38;5;66;03m# class, but its signature is not identical to that of NumPy's. This\u001b[39;00m\n\u001b[0;32m   (...)\u001b[0m\n\u001b[1;32m     64\u001b[0m     \u001b[38;5;66;03m# Call _wrapit from within the except clause to ensure a potential\u001b[39;00m\n\u001b[1;32m     65\u001b[0m     \u001b[38;5;66;03m# exception has a traceback chain.\u001b[39;00m\n\u001b[1;32m     66\u001b[0m     \u001b[38;5;28;01mreturn\u001b[39;00m _wrapit(obj, method, \u001b[38;5;241m*\u001b[39margs, \u001b[38;5;241m*\u001b[39m\u001b[38;5;241m*\u001b[39mkwds)\n",
      "\u001b[0;31mValueError\u001b[0m: cannot reshape array of size 16379 into shape (128,128)"
     ]
    },
    {
     "data": {
      "text/plain": [
       "<Figure size 640x480 with 0 Axes>"
      ]
     },
     "metadata": {},
     "output_type": "display_data"
    }
   ],
   "source": [
    "plt.figure()\n",
    "plt.imshow(np.reshape(pca.components_[0,:], newshape=(128, 128)))"
   ]
  },
  {
   "cell_type": "code",
   "execution_count": 10,
   "id": "cde6b531-8625-4100-9468-4b9af7aff66f",
   "metadata": {},
   "outputs": [
    {
     "data": {
      "text/plain": [
       "16384"
      ]
     },
     "execution_count": 10,
     "metadata": {},
     "output_type": "execute_result"
    }
   ],
   "source": [
    "128*128"
   ]
  },
  {
   "cell_type": "code",
   "execution_count": null,
   "id": "5a167351-09ca-42b1-baac-6f94d3053d4e",
   "metadata": {},
   "outputs": [],
   "source": []
  }
 ],
 "metadata": {
  "kernelspec": {
   "display_name": "Python 3 (ipykernel)",
   "language": "python",
   "name": "python3"
  },
  "language_info": {
   "codemirror_mode": {
    "name": "ipython",
    "version": 3
   },
   "file_extension": ".py",
   "mimetype": "text/x-python",
   "name": "python",
   "nbconvert_exporter": "python",
   "pygments_lexer": "ipython3",
   "version": "3.11.5"
  }
 },
 "nbformat": 4,
 "nbformat_minor": 5
}

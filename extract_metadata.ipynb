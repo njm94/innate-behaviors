{
 "cells": [
  {
   "cell_type": "code",
   "execution_count": 1,
   "id": "cbe2bd2e",
   "metadata": {},
   "outputs": [],
   "source": [
    "import ScanImageTiffReader as scanimage\n",
    "import os\n",
    "import re\n",
    "import tifffile as tf\n",
    "from skimage.transform import downscale_local_mean\n",
    "import numpy as np\n",
    "import pandas as pd\n",
    "from helper import *"
   ]
  },
  {
   "cell_type": "code",
   "execution_count": 2,
   "id": "5250cff7",
   "metadata": {},
   "outputs": [],
   "source": [
    "def extract_metadata(file_2p):\n",
    "    filepath, filename = os.path.split(os.path.abspath(file_2p))\n",
    "    \n",
    "    all_meta = scanimage.ScanImageTiffReader(file_2p).metadata()\n",
    "    all_metadata_file = filepath + os.path.sep + filename[:-4] + \"_allMeta.txt\"\n",
    "    metadata_file = filepath + os.path.sep + filename[:-4] + \"_Meta.txt\"\n",
    "    \n",
    "    with open(all_metadata_file, 'w') as f:\n",
    "        f.write(all_meta)\n",
    "    \n",
    "    all_meta = all_meta.splitlines() # split for easy extraction\n",
    "    \n",
    "    with open(metadata_file, 'w') as f:\n",
    "        f.write(filepath + os.path.sep + filename + \"\\n\\n\")\n",
    "        \n",
    "        # Arm\n",
    "        arm1_flag = [i for i in all_meta if 'Arm1' in i]\n",
    "        arm2_flag = [i for i in all_meta if 'Arm2' in i]\n",
    "        if len(arm1_flag) > 0 and len(arm2_flag) == 0:\n",
    "            f.write('Arm 1\\n\\n')\n",
    "        elif len(arm1_flag) == 0 and len(arm2_flag) > 0:\n",
    "            f.write('Arm 2\\n\\n')\n",
    "        else:\n",
    "            f.write('Error in finding scan arm information from metadata\\n\\n')\n",
    "        \n",
    "        \n",
    "        # Basic acquisition parameters\n",
    "        f.write(\"Acquisition\\n\")\n",
    "        laser_power = [i[i.find('[')+1:i.find('[')+3] for i in all_meta if 'powers ' in i][0]\n",
    "        beamsplit = [i[i.find(']')-2:i.find(']')] for i in all_meta if 'powers ' in i][0]\n",
    "        f.write(\"\\tlaserPower = {}%\\n\".format(laser_power))\n",
    "        f.write(\"\\tbeamSplit = {}%\\n\".format(beamsplit))\n",
    "        \n",
    "        sample_position = [i[i.find('sample'):] for i in all_meta if 'samplePosition' in i][0]\n",
    "        f.write(\"\\t{}\\n\".format(sample_position))\n",
    "        \n",
    "        frame_rate = [i[i.find('scan'):] for i in all_meta if 'FrameRate' in i][0]\n",
    "        f.write(\"\\t{}\\n\\n\".format(frame_rate))\n",
    "        \n",
    "        \n",
    "        # Volumetric imaging parameters\n",
    "        \n",
    "        f.write(\"Volume\\n\")\n",
    "        volume_rate = [i[i.find('scan'):] for i in all_meta if 'VolumeRate' in i][0]\n",
    "        f.write(\"\\t{}\\n\".format(volume_rate))\n",
    "        \n",
    "        num_slices = [i[i.find('numSlices'):] for i in all_meta if 'numSlices ' in i][0]\n",
    "        f.write(\"\\t{}\\n\".format(num_slices))\n",
    "        \n",
    "        step_size = [i[i.find('actual'):] for i in all_meta if 'actualStackZStepSize' in i][0]\n",
    "        f.write(\"\\t{}\\n\".format(step_size))\n",
    "        \n",
    "        start_pos = [i[i.find('stackZStartPos'):] for i in all_meta if 'stackZStartPos' in i][0]\n",
    "        f.write(\"\\t{}\\n\".format(start_pos))\n",
    "        \n",
    "        end_pos = [i[i.find('stackZEndPos'):] for i in all_meta if 'stackZEndPos' in i][0]\n",
    "        f.write(\"\\t{}\\n\\n\".format(end_pos))\n",
    "        \n",
    "        \n",
    "        # ROI information        \n",
    "        roi_info = [i[i.find('['):i.find(']')+1] for i in all_meta if 'pixelResolutionXY' in i]\n",
    "        if len(roi_info)>0:\n",
    "            f.write(\"ROIs\\n\")\n",
    "            for i, res in enumerate(roi_info):\n",
    "                f.write(\"\\troi{} PixelResolutionXY = {}\".format(i, res) + \"\\n\")\n",
    "        \n",
    "    return metadata_file\n"
   ]
  },
  {
   "cell_type": "code",
   "execution_count": 4,
   "id": "6ed2cc01",
   "metadata": {},
   "outputs": [],
   "source": [
    "def segment_2p_video(file_2p, metadata_file, do_binning):    \n",
    "    print(\"[+] Parsing ROIs from metadata\")\n",
    "    num_rois = 0\n",
    "    true_image_size = 0\n",
    "    roi_y = []\n",
    "        \n",
    "    search_rois = True\n",
    "    while search_rois:\n",
    "        with open(metadata_file, 'r') as f:\n",
    "            last_line = f.readlines()[-(num_rois+1)]\n",
    "            if 'roi0 ' in last_line: # done searching for rois\n",
    "                search_rois = False\n",
    "        \n",
    "        roi_y.insert(0, int(last_line[last_line.find(',')+1:-2]))\n",
    "        true_image_size += roi_y[0]\n",
    "        num_rois += 1\n",
    "      \n",
    "    print(\"\\tFound {} ROIs\".format(num_rois))\n",
    "                    \n",
    "    print(\"[+] Reading 2-photon data\")\n",
    "    data2p = scanimage.ScanImageTiffReader(file_2p).data()\n",
    "    print(data2p.dtype)\n",
    "    \n",
    "    if data2p.max() < np.iinfo(np.int16).max:\n",
    "        data2p -= data2p.min()\n",
    "        data2p = data2p.astype('uint16')\n",
    "    \n",
    "    num_junk_lines = data2p.shape[1] - true_image_size\n",
    "    junk_lines_per_frame = int(num_junk_lines/num_rois)\n",
    "\n",
    "    parent_directory = os.path.dirname(os.path.abspath(file_2p))\n",
    "\n",
    "    for i, true_roi_height in enumerate(roi_y[::-1]): # index it backwards to account for junk lines\n",
    "        roi_path = parent_directory + os.path.sep + 'roi_{}'.format(num_rois-i)\n",
    "        set_path(roi_path)\n",
    "        \n",
    "        frame_height = true_roi_height + junk_lines_per_frame\n",
    "\n",
    "        cropped_data = data2p[:, -frame_height:, :]\n",
    "        data2p = data2p[:, 0:-frame_height, :]\n",
    "\n",
    "\n",
    "        if do_binning:\n",
    "            print(\"[+] Binning region {}\".format(num_rois-i))\n",
    "            roi_path = roi_path + os.path.sep + 'bin2x2x1'\n",
    "            set_path(roi_path)\n",
    "            cropped_data = downscale_local_mean(cropped_data, (1, 2, 2)).astype('uint16')\n",
    "\n",
    "        roi_filename = roi_path + os.path.sep + 'data.tif'\n",
    "        print(\"[+] Writing region {}\".format(num_rois - i))\n",
    "        tf.imwrite(roi_filename, cropped_data, photometric='minisblack')"
   ]
  },
  {
   "cell_type": "code",
<<<<<<< HEAD
   "execution_count": 7,
   "id": "62db5d3e-0833-4bfa-bdbd-7fbcef03fece",
   "metadata": {},
   "outputs": [],
   "source": [
    "metadata_file = extract_metadata(r'/media/user/teamshare/nick/behavior/grooming/2p/RR3-tTA8s/20240726/arm2/resonant_00001.tif')"
=======
   "execution_count": 5,
   "id": "7cb468e6",
   "metadata": {},
   "outputs": [],
   "source": [
    "file_2p = r'Y:\\nick\\behavior\\grooming\\2p\\RR3-tTA8s\\20240722\\arm1\\resonant_00001.tif'\n",
    "metadata_file = extract_metadata(file_2p)"
>>>>>>> 3b5525942492ef6e402773a74983b0d041f2c71d
   ]
  },
  {
   "cell_type": "code",
<<<<<<< HEAD
   "execution_count": 4,
   "id": "f733921f-f422-4d24-81ef-83e8803b2b9b",
=======
   "execution_count": null,
   "id": "13afd38e",
>>>>>>> 3b5525942492ef6e402773a74983b0d041f2c71d
   "metadata": {},
   "outputs": [
    {
     "name": "stdout",
     "output_type": "stream",
     "text": [
      "[+] Parsing ROIs from metadata\n",
      "\tFound 1 ROIs\n",
      "[+] Reading 2-photon data\n"

     ]
    }
   ],
   "source": [
    "for f in file_2p:\n",
    "    print(\"Starting: \" + f)\n",
    "    if os.path.isfile(f+'resonant_00001_Meta.txt'):\n",
    "        metadata_file = f+'resonant_00001_Meta.txt'\n",
    "    else:\n",
    "        metadata_file = extract_metadata(f + 'resonant_00001.tif')\n",
    "        \n",
    "    segment_2p_video(f + 'resonant_00001.tif', metadata_file, True)"
   ]
  },
  {
   "cell_type": "code",
   "execution_count": 19,
   "id": "d2876a18-30b5-4e1f-ac9b-d38bd57d647a",
   "metadata": {},
   "outputs": [],
   "source": [
    "test = scanimage.ScanImageTiffReader(r'/media/user/teamshare/nick/behavior/grooming/2p/IDR3_tTA6s/20240726/arm2/resonant_00001.tif')"
   ]
  },
  {
   "cell_type": "code",
   "execution_count": 22,
   "id": "f97357a5-d5d5-4cb9-bf59-db6d065f792f",
   "metadata": {},
   "outputs": [
    {
     "ename": "Exception",
     "evalue": "Resource temporarily unavailable",
     "output_type": "error",
     "traceback": [
      "\u001b[0;31m---------------------------------------------------------------------------\u001b[0m",
      "\u001b[0;31mException\u001b[0m                                 Traceback (most recent call last)",
      "Cell \u001b[0;32mIn[22], line 1\u001b[0m\n\u001b[0;32m----> 1\u001b[0m \u001b[43mtest\u001b[49m\u001b[38;5;241;43m.\u001b[39;49m\u001b[43mdata\u001b[49m\u001b[43m(\u001b[49m\u001b[43m)\u001b[49m\n",
      "File \u001b[0;32m~/anaconda3/envs/nick/lib/python3.11/site-packages/ScanImageTiffReader/__init__.py:309\u001b[0m, in \u001b[0;36mScanImageTiffReader.data\u001b[0;34m(self, beg, end)\u001b[0m\n\u001b[1;32m    306\u001b[0m     _api\u001b[38;5;241m.\u001b[39minterval(\u001b[38;5;28mself\u001b[39m\u001b[38;5;241m.\u001b[39m__ctx,beg,end,a\u001b[38;5;241m.\u001b[39mctypes\u001b[38;5;241m.\u001b[39mdata,a\u001b[38;5;241m.\u001b[39msize\u001b[38;5;241m*\u001b[39ma\u001b[38;5;241m.\u001b[39mitemsize)\n\u001b[1;32m    308\u001b[0m \u001b[38;5;28;01mif\u001b[39;00m \u001b[38;5;28mself\u001b[39m\u001b[38;5;241m.\u001b[39m__ctx\u001b[38;5;241m.\u001b[39mlog:\n\u001b[0;32m--> 309\u001b[0m     \u001b[38;5;28;01mraise\u001b[39;00m \u001b[38;5;167;01mException\u001b[39;00m(\u001b[38;5;28mself\u001b[39m\u001b[38;5;241m.\u001b[39m__ctx\u001b[38;5;241m.\u001b[39mlog\u001b[38;5;241m.\u001b[39mdecode(\u001b[38;5;124m\"\u001b[39m\u001b[38;5;124mutf-8\u001b[39m\u001b[38;5;124m\"\u001b[39m,\u001b[38;5;124m\"\u001b[39m\u001b[38;5;124mstrict\u001b[39m\u001b[38;5;124m\"\u001b[39m))\n\u001b[1;32m    310\u001b[0m \u001b[38;5;28;01mreturn\u001b[39;00m a\n",
      "\u001b[0;31mException\u001b[0m: Resource temporarily unavailable"
     ]
    }
   ],
   "source": [
    "test.data()"
   ]
  },
  {
   "cell_type": "code",
   "execution_count": 15,
   "id": "1a983a67",
   "metadata": {},
   "outputs": [
    {
     "name": "stdout",
     "output_type": "stream",
     "text": [
      "0\n",
      "5155\n",
      "int16\n",
      "0\n",
      "5155\n",
      "uint16\n"
     ]
    }
   ],
   "source": [
    "print(data2p.min())\n",
    "print(data2p.max())\n",
    "print(data2p.dtype)\n",
    "\n",
    "\n",
    "\n",
    "print(data2p.min())\n",
    "print(data2p.max())\n",
    "print(data2p.dtype)\n"
   ]
  },
  {
   "cell_type": "code",
   "execution_count": 13,
   "id": "3d09c7c5",
   "metadata": {},ge, which may incorporate changes from both branches. Delete the conflict markers <<<<<<<, =======, >>>>>>> and make the ch
   "outputs": [
    {
     "data": {
      "text/plain": [
       "numpy.ndarray"
      ]
     },
     "execution_count": 13,
     "metadata": {},
     "output_type": "execute_result"
    }
   ],
   "source": [
    "print(data2p.dtype)\n",
    "data2p = np.uint16\n"
   ]
  },
  {
   "cell_type": "code",
   "execution_count": 14,
   "id": "5b99a29d-ea4e-431e-b3f0-3151e244a7dc",
   "metadata": {},
   "outputs": [],
   "source": [
    "def norm0to1(data):\n",
    "    return np.divide(data-data.min(), data.max()-data.min())"
   ]
  },
  {
   "cell_type": "code",
   "execution_count": null,
   "id": "d946f880-4237-46ec-a4bd-7e25c8ae8292",
   "metadata": {},
   "outputs": [],
   "source": [
    "test -= ttt"
   ]
  },
  {
   "cell_type": "code",
   "execution_count": 8,
   "id": "8e036d74-d5e2-4a27-93dd-582d0e1c7784",
   "metadata": {},
   "outputs": [
    {
     "data": {
      "text/plain": [
       "32767"
      ]
     },
     "execution_count": 8,
     "metadata": {},
     "output_type": "execute_result"
    }
   ],
   "source": []
  },
  {
   "cell_type": "code",
   "execution_count": 10,
   "id": "cf5a0e3c-90fc-4167-8555-0d2a39350ec6",
   "metadata": {},
   "outputs": [
    {
     "data": {
      "text/plain": [
       "0"
      ]
     },
     "execution_count": 10,
     "metadata": {},
     "output_type": "execute_result"
    }
   ],
   "source": [
    "np.iinfo(np.uint16).min"
   ]
  },
  {
   "cell_type": "code",
   "execution_count": null,
   "id": "f730d65e-b033-445f-bf41-0015818ff58b",
   "metadata": {},
   "outputs": [],
   "source": []
  }
 ],
 "metadata": {
  "kernelspec": {
   "display_name": "Python 3 (ipykernel)",
   "language": "python",
   "name": "python3"
  },
  "language_info": {
   "codemirror_mode": {
    "name": "ipython",
    "version": 3
   },
   "file_extension": ".py",
   "mimetype": "text/x-python",
   "name": "python",
   "nbconvert_exporter": "python",
   "pygments_lexer": "ipython3",
   "version": "3.11.5"
  }
 },
 "nbformat": 4,
 "nbformat_minor": 5
}

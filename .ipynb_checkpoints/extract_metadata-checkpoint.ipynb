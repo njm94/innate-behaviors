{
 "cells": [
  {
   "cell_type": "code",
   "execution_count": 1,
   "id": "cbe2bd2e",
   "metadata": {},
   "outputs": [],
   "source": [
    "import ScanImageTiffReader as scanimage\n",
    "import os\n",
    "import re\n",
    "import tifffile as tf\n",
    "from skimage.transform import downscale_local_mean\n",
    "import numpy as np\n",
    "import pandas as pd\n",
    "import mesoscale_helper as mh"
   ]
  },
  {
   "cell_type": "code",
   "execution_count": 2,
   "id": "5250cff7",
   "metadata": {},
   "outputs": [],
   "source": [
    "def extract_metadata(file_2p):\n",
    "    filepath, filename = os.path.split(os.path.abspath(file_2p))\n",
    "    \n",
    "    all_meta = scanimage.ScanImageTiffReader(file_2p).metadata()\n",
    "    all_metadata_file = filepath + os.path.sep + filename[:-4] + \"_allMeta.txt\"\n",
    "    metadata_file = filepath + os.path.sep + filename[:-4] + \"_Meta.txt\"\n",
    "    \n",
    "    with open(all_metadata_file, 'w') as f:\n",
    "        f.write(all_meta)\n",
    "    \n",
    "    all_meta = all_meta.splitlines() # split for easy extraction\n",
    "    \n",
    "    with open(metadata_file, 'w') as f:\n",
    "        f.write(filepath + os.path.sep + filename + \"\\n\\n\")\n",
    "        \n",
    "        # Arm\n",
    "        arm1_flag = [i for i in all_meta if 'Arm1' in i]\n",
    "        arm2_flag = [i for i in all_meta if 'Arm2' in i]\n",
    "        if len(arm1_flag) > 0 and len(arm2_flag) == 0:\n",
    "            f.write('Arm 1\\n\\n')\n",
    "        elif len(arm1_flag) == 0 and len(arm2_flag) > 0:\n",
    "            f.write('Arm 2\\n\\n')\n",
    "        else:\n",
    "            f.write('Error in finding scan arm information from metadata\\n\\n')\n",
    "        \n",
    "        \n",
    "        # Basic acquisition parameters\n",
    "        f.write(\"Acquisition\\n\")\n",
    "        laser_power = [i[i.find('[')+1:i.find('[')+3] for i in all_meta if 'powers ' in i][0]\n",
    "        beamsplit = [i[i.find(']')-2:i.find(']')] for i in all_meta if 'powers ' in i][0]\n",
    "        f.write(\"\\tlaserPower = {}%\\n\".format(laser_power))\n",
    "        f.write(\"\\tbeamSplit = {}%\\n\".format(beamsplit))\n",
    "        \n",
    "        sample_position = [i[i.find('sample'):] for i in all_meta if 'samplePosition' in i][0]\n",
    "        f.write(\"\\t{}\\n\".format(sample_position))\n",
    "        \n",
    "        frame_rate = [i[i.find('scan'):] for i in all_meta if 'FrameRate' in i][0]\n",
    "        f.write(\"\\t{}\\n\\n\".format(frame_rate))\n",
    "        \n",
    "        \n",
    "        # Volumetric imaging parameters\n",
    "        \n",
    "        f.write(\"Volume\\n\")\n",
    "        volume_rate = [i[i.find('scan'):] for i in all_meta if 'VolumeRate' in i][0]\n",
    "        f.write(\"\\t{}\\n\".format(volume_rate))\n",
    "        \n",
    "        num_slices = [i[i.find('numSlices'):] for i in all_meta if 'numSlices ' in i][0]\n",
    "        f.write(\"\\t{}\\n\".format(num_slices))\n",
    "        \n",
    "        step_size = [i[i.find('actual'):] for i in all_meta if 'actualStackZStepSize' in i][0]\n",
    "        f.write(\"\\t{}\\n\".format(step_size))\n",
    "        \n",
    "        start_pos = [i[i.find('stackZStartPos'):] for i in all_meta if 'stackZStartPos' in i][0]\n",
    "        f.write(\"\\t{}\\n\".format(start_pos))\n",
    "        \n",
    "        end_pos = [i[i.find('stackZEndPos'):] for i in all_meta if 'stackZEndPos' in i][0]\n",
    "        f.write(\"\\t{}\\n\\n\".format(end_pos))\n",
    "        \n",
    "        \n",
    "        # ROI information        \n",
    "        roi_info = [i[i.find('['):i.find(']')+1] for i in all_meta if 'pixelResolutionXY' in i]\n",
    "        if len(roi_info)>0:\n",
    "            f.write(\"ROIs\\n\")\n",
    "            for i, res in enumerate(roi_info):\n",
    "                f.write(\"\\troi{} PixelResolutionXY = {}\".format(i, res) + \"\\n\")\n",
    "        \n",
    "        return metadata_file\n"
   ]
  },
  {
   "cell_type": "code",
   "execution_count": 24,
   "id": "6ed2cc01",
   "metadata": {},
   "outputs": [],
   "source": [
    "def segment_2p_video(file_2p, metadata_file, do_binning):    \n",
    "    print(\"[+] Parsing ROIs from metadata\")\n",
    "    num_rois = 0\n",
    "    true_image_size = 0\n",
    "    roi_y = []\n",
    "        \n",
    "    search_rois = True\n",
    "    while search_rois:\n",
    "        with open(metadata_file, 'r') as f:\n",
    "            last_line = f.readlines()[-(num_rois+1)]\n",
    "            if 'roi0 ' in last_line: # done searching for rois\n",
    "                search_rois = False\n",
    "        \n",
    "        roi_y.insert(0, int(last_line[last_line.find(',')+1:-2]))\n",
    "        true_image_size += roi_y[0]\n",
    "        num_rois += 1\n",
    "      \n",
    "    print(\"\\tFound {} ROIs\".format(num_rois))\n",
    "                    \n",
    "    print(\"[+] Reading 2-photon data\")\n",
    "    data2p = scanimage.ScanImageTiffReader(file_2p).data()\n",
    "    print(data2p.dtype)\n",
    "    return data2p\n",
    "    \n",
    "#     data2p = \n",
    "#     num_junk_lines = data2p.shape[1] - true_image_size\n",
    "#     junk_lines_per_frame = int(num_junk_lines/num_rois)\n",
    "\n",
    "#     parent_directory = os.path.dirname(os.path.abspath(file_2p))\n",
    "\n",
    "#     for i, true_roi_height in enumerate(roi_y[::-1]): # index it backwards to account for junk lines\n",
    "#         roi_path = parent_directory + os.path.sep + 'roi_{}'.format(num_rois-i)\n",
    "#         mh.set_path(roi_path)\n",
    "        \n",
    "#         frame_height = true_roi_height + junk_lines_per_frame\n",
    "\n",
    "#         cropped_data = data2p[:, -frame_height:, :]\n",
    "#         data2p = data2p[:, 0:-frame_height, :]\n",
    "\n",
    "\n",
    "#         if do_binning:\n",
    "#             print(\"[+] Binning region {}\".format(num_rois-i))\n",
    "#             roi_path = roi_path + os.path.sep + 'bin2x2x1'\n",
    "#             mh.set_path(roi_path)\n",
    "#             cropped_data = downscale_local_mean(cropped_data, (1, 2, 2)).astype('int16')\n",
    "\n",
    "#         roi_filename = roi_path + os.path.sep + 'data.tif'\n",
    "#         print(\"[+] Writing region {}\".format(num_rois - i))\n",
    "#         tf.imwrite(roi_filename, cropped_data, photometric='minisblack')"
   ]
  },
  {
   "cell_type": "code",
   "execution_count": 18,
   "id": "7cb468e6",
   "metadata": {},
   "outputs": [],
   "source": [
    "file_2p = r'Y:\\nick\\behavior\\grooming\\2p\\ETL3_thy1\\20231109110512\\arm1\\resonant.tif'\n",
    "metadata_file = extract_metadata(file_2p)"
   ]
  },
  {
   "cell_type": "code",
   "execution_count": 25,
   "id": "13afd38e",
   "metadata": {},
   "outputs": [
    {
     "name": "stdout",
     "output_type": "stream",
     "text": [
      "[+] Parsing ROIs from metadata\n",
      "\tFound 1 ROIs\n",
      "[+] Reading 2-photon data\n",
      "int16\n"
     ]
    }
   ],
   "source": [
    "data2p = segment_2p_video(file_2p, metadata_file, True)"
   ]
  },
  {
   "cell_type": "markdown",
   "id": "a5af37cf",
   "metadata": {},
   "source": [
    "## file_2p"
   ]
  },
  {
   "cell_type": "code",
   "execution_count": null,
   "id": "1a983a67",
   "metadata": {},
   "outputs": [],
   "source": []
  },
  {
   "cell_type": "code",
   "execution_count": null,
   "id": "3d09c7c5",
   "metadata": {},
   "outputs": [],
   "source": []
  }
 ],
 "metadata": {
  "kernelspec": {
   "display_name": "Python 3",
   "language": "python",
   "name": "python3"
  },
  "language_info": {
   "codemirror_mode": {
    "name": "ipython",
    "version": 3
   },
   "file_extension": ".py",
   "mimetype": "text/x-python",
   "name": "python",
   "nbconvert_exporter": "python",
   "pygments_lexer": "ipython3",
   "version": "3.8.8"
  }
 },
 "nbformat": 4,
 "nbformat_minor": 5
}
